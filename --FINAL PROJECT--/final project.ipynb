{
 "cells": [
  {
   "cell_type": "markdown",
   "metadata": {},
   "source": [
    "Sherry Zhang\n",
    "4/20/22\n",
    "\n",
    "McDonald's Death Prediction/Analysis\n",
    "\n",
    "Question:\n",
    "When is McDonalds going to die/fail?\n",
    "\n",
    "I originally planned to do a study based upon when an individual restaurant was going to close or the rate of success they might have. Unfortunately, I couldn’t find any data released by the McDonald’s corporation on individual stores like when they opened, closed, and their profit. So instead I pivoted to see how long McDonald’s as a corporation would last overall. From McDonald's annual reports, I was able to get data such as the amount of stores opened, closed, corporate, franchised, etc.\n",
    "\n",
    "Datasets:\n",
    "MCD stock data - taken from yahoo finance\n",
    "Locations - for 2022\n",
    "Open Close each year - created by myself from McDonald's annual reports\n"
   ]
  },
  {
   "cell_type": "code",
   "execution_count": null,
   "metadata": {},
   "outputs": [],
   "source": [
    "import pandas as pd\n",
    "import matplotlib.pyplot as plt\n",
    "\n",
    "stock_data = pd.read_csv('Data/stocks.csv')\n",
    "# print(stock_data)\n",
    "\n",
    "year = []\n",
    "for ind in stock_data.index:\n",
    "    year.append(int(stock_data['Date'][ind][0:4]))\n",
    "\n",
    "stock_data.insert(1, 'year', year)\n",
    "\n",
    "stock_data = stock_data.drop(stock_data[stock_data.year < 2000].index)\n",
    "stock_data = stock_data[['Date', 'year', 'High']]\n",
    "\n",
    "print(stock_data)\n"
   ]
  },
  {
   "cell_type": "code",
   "execution_count": null,
   "metadata": {},
   "outputs": [],
   "source": [
    "figure, ax = plt.subplots(2, 2)\n",
    "\n",
    "figure.set_size_inches(20, 20)\n",
    "\n",
    "ax[0][0].plot(stock_data['Date'], stock_data['High'])\n",
    "\n",
    "#Make axis/labels white\n",
    "for row in range(0,2):\n",
    "    for column in range(0,2):\n",
    "        ax[row][column].spines['bottom'].set_color('white')\n",
    "        ax[row][column].xaxis.label.set_color('white')\n",
    "        ax[row][column].tick_params(axis='x', colors='white')\n",
    "        ax[row][column].spines['left'].set_color('white')\n",
    "        ax[row][column].yaxis.label.set_color('white')\n",
    "        ax[row][column].tick_params(axis='y', colors='white')"
   ]
  }
 ],
 "metadata": {
  "interpreter": {
   "hash": "4ab8c49bd01338872f4a6a1f2c09466d28120550af9bf8d8a079de44f056b754"
  },
  "kernelspec": {
   "display_name": "Python 3.9.7 ('base')",
   "language": "python",
   "name": "python3"
  },
  "language_info": {
   "codemirror_mode": {
    "name": "ipython",
    "version": 3
   },
   "file_extension": ".py",
   "mimetype": "text/x-python",
   "name": "python",
   "nbconvert_exporter": "python",
   "pygments_lexer": "ipython3",
   "version": "3.9.7"
  },
  "orig_nbformat": 4
 },
 "nbformat": 4,
 "nbformat_minor": 2
}
