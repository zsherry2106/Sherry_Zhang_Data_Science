{
 "cells": [
  {
   "cell_type": "code",
   "execution_count": 1,
   "metadata": {},
   "outputs": [
    {
     "name": "stdout",
     "output_type": "stream",
     "text": [
      "[[['18' '0' '26.315' ... 'northeast' '2198.18985' '1736.55']\n",
      "  ['18' '0' '38.665' ... 'northeast' '3393.35635' '7156.04']\n",
      "  ['18' '0' '35.625' ... 'northeast' '2211.13075' '5181.25']\n",
      "  ...\n",
      "  ['64' '0' '35.97' ... 'southeast' '14313.8463' '16808.9']\n",
      "  ['64' '0' '31.825' ... 'northeast' '16069.08475' '16125.25']\n",
      "  ['64' '0' '26.885' ... 'northwest' '29330.98315' '37447.44']]]\n",
      "bc12321cb\n"
     ]
    }
   ],
   "source": [
    "import os, csv\n",
    "import numpy as np\n",
    "import matplotlib.pyplot as plt\n",
    "os.system('cls')\n",
    "\n",
    "file = open('insurance_data.csv')\n",
    "insuranceFile = csv.reader(file)\n",
    "\n",
    "#Next - get the next value\n",
    "header = next(insuranceFile)\n",
    "# print(header)\n",
    "\n",
    "insurance_data = []\n",
    "\n",
    "for row in insuranceFile:\n",
    "    insurance_data.append(row)\n",
    "\n",
    "#Change female to 0\n",
    "#Change male to 1\n",
    "for row in insurance_data:\n",
    "    if row[1] == 'female':\n",
    "        row[1] = int(0)\n",
    "    elif row[1] == 'male':\n",
    "        row[1] = int(1)\n",
    "\n",
    "#Change smokers to 1\n",
    "#Change non smokers to 0\n",
    "for row in insurance_data:\n",
    "    if row[4] == 'no':\n",
    "        row[4] = int(0)\n",
    "    elif row[4] == 'yes':\n",
    "        row[4] = int(1)\n",
    "    \n",
    "    # print(row)\n",
    "\n",
    "for row in insurance_data:\n",
    "    insurance_cost = 250*int(row[0]) - 128*int(row[1]) + 370*float(row[2]) + 425*int(row[3]) + 24000*int(row[4]) - 12500\n",
    "    insurance_cost = int(insurance_cost*100)/100\n",
    "    row.append(insurance_cost)\n",
    "\n",
    "dataSample = np.array(insurance_data)\n",
    "\n",
    "female_indicies = np.where(dataSample[ :,1]=='0')\n",
    "data_female = dataSample[female_indicies,:]\n",
    "\n",
    "smoker_female = np.where(data_female[ :,4]=='1')\n",
    "non_smoker_female = np.where(data_female[ :,4]=='0')\n",
    "\n",
    "print(data_female)\n",
    "\n",
    "plt.show()\n",
    "\n",
    "file.close()"
   ]
  }
 ],
 "metadata": {
  "interpreter": {
   "hash": "4ab8c49bd01338872f4a6a1f2c09466d28120550af9bf8d8a079de44f056b754"
  },
  "kernelspec": {
   "display_name": "Python 3.9.7 64-bit ('base': conda)",
   "language": "python",
   "name": "python3"
  },
  "language_info": {
   "codemirror_mode": {
    "name": "ipython",
    "version": 3
   },
   "file_extension": ".py",
   "mimetype": "text/x-python",
   "name": "python",
   "nbconvert_exporter": "python",
   "pygments_lexer": "ipython3",
   "version": "3.9.7"
  },
  "orig_nbformat": 4
 },
 "nbformat": 4,
 "nbformat_minor": 2
}
