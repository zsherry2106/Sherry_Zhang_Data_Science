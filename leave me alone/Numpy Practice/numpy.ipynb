{
 "cells": [
  {
   "cell_type": "code",
   "execution_count": null,
   "metadata": {},
   "outputs": [],
   "source": [
    "import numpy as np\n",
    "import os\n",
    "\n",
    "array = np.array([1,2,3])\n",
    "array1 = np.array([[3,6], [4,7]])\n",
    "array2 = np.array([[1,3,5], [9,10,5]], dtype='float16')\n",
    "\n",
    "print('array type:', type(array))\n",
    "print('type of elements:', array2.dtype)\n",
    "\n",
    "#dimension\n",
    "print('dimension', array1.ndim)\n",
    "\n",
    "#shape\n",
    "print('shape', array2.shape)\n",
    "\n",
    "zeroarray = np.zeros((3,4), dtype='uint8')\n",
    "onearray = np.ones((3,4), dtype='uint8')\n",
    "print(zeroarray)\n",
    "print(onearray)\n",
    "\n",
    "constarray = np.full((3,4), 8, dtype='float16')\n",
    "print(constarray)\n",
    "\n",
    "randomarray = np.random.randint(50,100, size=(3,4))\n",
    "print(randomarray)"
   ]
  },
  {
   "cell_type": "markdown",
   "metadata": {},
   "source": [
    "Arrays: operations and data types"
   ]
  },
  {
   "cell_type": "code",
   "execution_count": 49,
   "metadata": {},
   "outputs": [
    {
     "name": "stdout",
     "output_type": "stream",
     "text": [
      "[[ 4. 11.]\n",
      " [14. 12.]]\n",
      "[[ 4. 11.]\n",
      " [14. 12.]]\n",
      "[[ 9 36]\n",
      " [16 49]]\n",
      "[[3. 6.]\n",
      " [4. 7.]]\n",
      "[[ 2  3  4]\n",
      " [ 5  6  7]\n",
      " [ 8  9 10]]\n",
      "[[ 2  5  8]\n",
      " [ 3  6  9]\n",
      " [ 4  7 10]]\n"
     ]
    }
   ],
   "source": [
    "import numpy as np\n",
    "import os\n",
    "\n",
    "array = np.array([1,2,3])\n",
    "array1 = np.array([[3,6], [4,7]])\n",
    "array2 = np.array([[1,5], [10,5]], dtype='float64')\n",
    "\n",
    "array3 = array1 + array2\n",
    "print(array3)\n",
    "\n",
    "add = np.add(array1, array2, array3)\n",
    "print(add)\n",
    "\n",
    "array3 = array1**2\n",
    "print(array3)\n",
    "sqrarray3 = np.sqrt(array3)\n",
    "print(sqrarray3)\n",
    "\n",
    "#Transpose\n",
    "array4 = np.array([[2,3,4], [5,6,7], [8,9,10]])\n",
    "transarray = array4.T\n",
    "print(array4)\n",
    "print(transarray)"
   ]
  },
  {
   "cell_type": "markdown",
   "metadata": {},
   "source": [
    "Indexing and slicing"
   ]
  },
  {
   "cell_type": "code",
   "execution_count": 69,
   "metadata": {},
   "outputs": [
    {
     "name": "stdout",
     "output_type": "stream",
     "text": [
      "[ 0.   0.5  1.   1.5  2.   2.5  3.   3.5  4.   4.5  5.   5.5  6.   6.5\n",
      "  7.   7.5  8.   8.5  9.   9.5 10. ]\n",
      "[ 10  15  20  25  30  35  40  45  50  55  60  65  70  75  80  85  90  95\n",
      " 100 105 110 115 120 125 130 135 140 145 150 155 160 165 170 175 180 185\n",
      " 190 195]\n",
      "[ 60  65  70  75  80  85  90  95 100 105 110 115 120 125 130 135 140 145\n",
      " 150 155 160 165 170 175 180 185 190 195]\n",
      "[ 1600  6400 14400 25600]\n",
      "105.0\n",
      "[[ 2  3  4]\n",
      " [ 5  6  7]\n",
      " [ 8  9 10]]\n",
      "[ 4.  7. 10.]\n"
     ]
    },
    {
     "data": {
      "image/png": "[encoded data removed]",
      "text/plain": [
       "<Figure size 432x288 with 1 Axes>"
      ]
     },
     "metadata": {
      "needs_background": "light"
     },
     "output_type": "display_data"
    }
   ],
   "source": [
    "import numpy as np\n",
    "import os\n",
    "import matplotlib.pyplot as plt\n",
    "\n",
    "array = np.array([1,2,3])\n",
    "array1 = np.array([[3,6], [4,7]])\n",
    "array2 = np.array([[1,5], [10,5]], dtype='float64')\n",
    "\n",
    "arrayline = np.linspace(0, 10, 21)\n",
    "print(arrayline)\n",
    "\n",
    "arrayrange = np.arange(10, 200, 5)\n",
    "print(arrayrange)\n",
    "print(arrayrange[10:])\n",
    "arraycrazy = arrayrange[arrayrange%40==0]**2\n",
    "print(arraycrazy)\n",
    "\n",
    "#add all elements\n",
    "sumline = arrayline.sum()\n",
    "print(sumline)\n",
    "\n",
    "array4 = np.array([[2,3,4], [5,6,7], [8,9,10]])\n",
    "bmi = array4[ :,2].astype(float)\n",
    "age = array4[ :,0].astype(int)\n",
    "print(array4)\n",
    "print(bmi)\n",
    "plt.plot(age, bmi)\n",
    "plt.show()"
   ]
  }
 ],
 "metadata": {
  "interpreter": {
   "hash": "4ab8c49bd01338872f4a6a1f2c09466d28120550af9bf8d8a079de44f056b754"
  },
  "kernelspec": {
   "display_name": "Python 3.9.7 64-bit ('base': conda)",
   "language": "python",
   "name": "python3"
  },
  "language_info": {
   "codemirror_mode": {
    "name": "ipython",
    "version": 3
   },
   "file_extension": ".py",
   "mimetype": "text/x-python",
   "name": "python",
   "nbconvert_exporter": "python",
   "pygments_lexer": "ipython3",
   "version": "3.9.7"
  },
  "orig_nbformat": 4
 },
 "nbformat": 4,
 "nbformat_minor": 2
}
