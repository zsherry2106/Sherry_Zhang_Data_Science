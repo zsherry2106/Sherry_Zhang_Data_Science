{
 "cells": [
  {
   "cell_type": "code",
   "execution_count": 12,
   "metadata": {},
   "outputs": [
    {
     "name": "stdout",
     "output_type": "stream",
     "text": [
      "['age', 'sex', 'bmi', 'children', 'smoker', 'region', 'charges']\n"
     ]
    },
    {
     "data": {
      "image/png": "[encoded data removed]",
      "text/plain": [
       "<Figure size 432x288 with 1 Axes>"
      ]
     },
     "metadata": {
      "needs_background": "light"
     },
     "output_type": "display_data"
    }
   ],
   "source": [
    "import os, csv\n",
    "import numpy as np\n",
    "import matplotlib.pyplot as plt\n",
    "os.system('cls')\n",
    "\n",
    "file = open('insurance_data.csv')\n",
    "insuranceFile = csv.reader(file)\n",
    "\n",
    "#Next - get the next value\n",
    "header = next(insuranceFile)\n",
    "print(header)\n",
    "\n",
    "insurance_data = []\n",
    "\n",
    "for row in insuranceFile:\n",
    "    insurance_data.append(row)\n",
    "\n",
    "#Change female to 0\n",
    "#Change male to 1\n",
    "for row in insurance_data:\n",
    "    if row[1] == 'female':\n",
    "        row[1] = int(0)\n",
    "    elif row[1] == 'male':\n",
    "        row[1] = int(1)\n",
    "\n",
    "#Change smokers to 1\n",
    "#Change non smokers to 0\n",
    "for row in insurance_data:\n",
    "    if row[4] == 'no':\n",
    "        row[4] = int(0)\n",
    "    elif row[4] == 'yes':\n",
    "        row[4] = int(1)\n",
    "    \n",
    "    # print(row)\n",
    "\n",
    "for row in insurance_data:\n",
    "    insurance_cost = 250*int(row[0]) - 128*int(row[1]) + 370*float(row[2]) + 425*int(row[3]) + 24000*int(row[4]) - 12500\n",
    "    insurance_cost = int(insurance_cost*100)/100\n",
    "    row.append(insurance_cost)\n",
    "\n",
    "dataSample=np.array(insurance_data)\n",
    "\n",
    "#Non smoking age vs. cost\n",
    "age = []\n",
    "cost = []\n",
    "\n",
    "for row in insurance_data:\n",
    "    if row[4] == 0:\n",
    "        age.append(int(row[0]))\n",
    "        cost.append(float(row[6]))\n",
    "\n",
    "age = np.array(age)\n",
    "cost = np.array(cost)\n",
    "\n",
    "plt.scatter(age, cost)\n",
    "plt.show()\n",
    "\n",
    "file.close()"
   ]
  }
 ],
 "metadata": {
  "interpreter": {
   "hash": "4ab8c49bd01338872f4a6a1f2c09466d28120550af9bf8d8a079de44f056b754"
  },
  "kernelspec": {
   "display_name": "Python 3.9.7 64-bit ('base': conda)",
   "language": "python",
   "name": "python3"
  },
  "language_info": {
   "codemirror_mode": {
    "name": "ipython",
    "version": 3
   },
   "file_extension": ".py",
   "mimetype": "text/x-python",
   "name": "python",
   "nbconvert_exporter": "python",
   "pygments_lexer": "ipython3",
   "version": "3.9.7"
  },
  "orig_nbformat": 4
 },
 "nbformat": 4,
 "nbformat_minor": 2
}
