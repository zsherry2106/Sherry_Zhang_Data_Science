{
 "cells": [
  {
   "cell_type": "code",
   "execution_count": 38,
   "metadata": {},
   "outputs": [
    {
     "name": "stdout",
     "output_type": "stream",
     "text": [
      "Total spent: $15168.19\n",
      "\n",
      "Smallest Amt. Spent $3.99\n",
      "Largest Amt. Spent $709.54\n",
      "Median Amt. Spent: $35.02\n",
      "AVerage Amt. Spent: $67.72\n",
      "\n",
      "Total tax payed: $139.79\n"
     ]
    },
    {
     "data": {
      "image/png": "[encoded data removed]",
      "text/plain": [
       "<Figure size 432x288 with 1 Axes>"
      ]
     },
     "metadata": {
      "needs_background": "light"
     },
     "output_type": "display_data"
    }
   ],
   "source": [
    "import numpy as np\n",
    "import matplotlib.pyplot as plt \n",
    "import csv\n",
    "\n",
    "file = open('amazon.csv')\n",
    "orderFile = csv.reader(file)\n",
    "\n",
    "header = next(orderFile)\n",
    "\n",
    "order_data = []\n",
    "\n",
    "for row in orderFile:\n",
    "    new_row = []\n",
    "    for i in row:\n",
    "        if '$' not in i:\n",
    "            new_row.append(i)\n",
    "        else:\n",
    "            new_row.append(i[1:])\n",
    "    order_data.append(new_row)\n",
    "\n",
    "# print(order_data)\n",
    "\n",
    "dataSample = np.array(order_data)\n",
    "\n",
    "#Find total spent\n",
    "column_total_cost = np.array(dataSample[:, 8], dtype=float)\n",
    "total_cost_sum = column_total_cost.sum()\n",
    "print(f\"Total spent: ${total_cost_sum}\\n\")\n",
    "\n",
    "#Min and Max spent\n",
    "column_total_cost_not0 = []\n",
    "for val in column_total_cost:\n",
    "    # print(val)\n",
    "    if val != 0.0:\n",
    "        column_total_cost_not0.append(val)\n",
    "\n",
    "column_total_cost_not0 = np.array(column_total_cost_not0)\n",
    "\n",
    "smallest_amt = column_total_cost_not0.min()\n",
    "greatest_amt = column_total_cost_not0.max()\n",
    "\n",
    "median_amt = \"{:.2f}\".format(np.median(column_total_cost_not0))\n",
    "average_amt = \"{:.2f}\".format(np.average(column_total_cost_not0))\n",
    "\n",
    "print(f\"Smallest Amt. Spent ${smallest_amt}\")\n",
    "print(f\"Largest Amt. Spent ${greatest_amt}\")\n",
    "\n",
    "print(f\"Median Amt. Spent: ${median_amt}\")\n",
    "print(f\"AVerage Amt. Spent: ${average_amt}\\n\")\n",
    "\n",
    "#Amt. spent on taxes\n",
    "column_tax_cost = np.array(dataSample[:, 7], dtype=float)\n",
    "tax_cost_sum = \"{:.2f}\".format(column_tax_cost.sum())\n",
    "print(f\"Total tax payed: ${tax_cost_sum}\")\n",
    "\n",
    "#Year by Year Visualization\n",
    "dates_column = dataSample[:, 0]\n",
    "dates_column_year = []\n",
    "year_num_orders = {}\n",
    "\n",
    "for date in dates_column:\n",
    "    date = date.split(\"/\")\n",
    "    dates_column_year.append(date[2])\n",
    "\n",
    "for year in dates_column_year:\n",
    "    if year not in year_num_orders.keys():\n",
    "        year_num_orders[year] = 1\n",
    "    else:\n",
    "        year_num_orders[year] += 1\n",
    "\n",
    "years = list(year_num_orders.keys())\n",
    "count = list(year_num_orders.values())\n",
    "\n",
    "plt.bar(years, count, color=['tomato', 'orange', 'gold', 'limegreen'])\n",
    "plt.xlabel(\"Year\")\n",
    "plt.ylabel(\"Number of Orders\")\n",
    "plt.show()\n",
    "\n",
    "file.close()"
   ]
  }
 ],
 "metadata": {
  "interpreter": {
   "hash": "4ab8c49bd01338872f4a6a1f2c09466d28120550af9bf8d8a079de44f056b754"
  },
  "kernelspec": {
   "display_name": "Python 3.9.7 ('base')",
   "language": "python",
   "name": "python3"
  },
  "language_info": {
   "codemirror_mode": {
    "name": "ipython",
    "version": 3
   },
   "file_extension": ".py",
   "mimetype": "text/x-python",
   "name": "python",
   "nbconvert_exporter": "python",
   "pygments_lexer": "ipython3",
   "version": "3.9.7"
  },
  "orig_nbformat": 4
 },
 "nbformat": 4,
 "nbformat_minor": 2
}
